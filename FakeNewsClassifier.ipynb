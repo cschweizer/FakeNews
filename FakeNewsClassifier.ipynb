{
 "metadata": {
  "language_info": {
   "codemirror_mode": {
    "name": "ipython",
    "version": 3
   },
   "file_extension": ".py",
   "mimetype": "text/x-python",
   "name": "python",
   "nbconvert_exporter": "python",
   "pygments_lexer": "ipython3",
   "version": "3.7.7-final"
  },
  "orig_nbformat": 2,
  "kernelspec": {
   "name": "python3",
   "display_name": "Python 3.7.7 64-bit",
   "metadata": {
    "interpreter": {
     "hash": "aee8b7b246df8f9039afb4144a1f6fd8d2ca17a180786b69acc140d282b71a49"
    }
   }
  }
 },
 "nbformat": 4,
 "nbformat_minor": 2,
 "cells": [
  {
   "source": [
    "<h1>Detecting Fake News with Python</h1>\n",
    "Use Machine Learning classification with scikit-learn to identify Fake News."
   ],
   "cell_type": "markdown",
   "metadata": {}
  },
  {
   "source": [
    "<h2>Train and Test the Data</h2>"
   ],
   "cell_type": "markdown",
   "metadata": {}
  },
  {
   "cell_type": "code",
   "execution_count": 18,
   "metadata": {},
   "outputs": [],
   "source": [
    "import numpy as np\n",
    "import pandas as pd\n",
    "import itertools\n",
    "from sklearn.model_selection import train_test_split\n",
    "from sklearn.feature_extraction.text import TfidfVectorizer\n",
    "from sklearn.linear_model import PassiveAggressiveClassifier\n",
    "from sklearn.metrics import accuracy_score, confusion_matrix\n",
    "\n",
    "def fakeNewsClassifier(text, labels):\n",
    "    #DataFlair - Split the dataset\n",
    "    x_train, x_test, y_train,y_test = train_test_split(text, labels, test_size=0.2, random_state=7)\n",
    "\n",
    "    #DataFlair - Initialize a TfidfVectorizer\n",
    "    tfidf_vectorizer = TfidfVectorizer(stop_words='english', max_df=0.7)\n",
    "\n",
    "    #DataFlair - Fit and transform train set, transform test set\n",
    "    tfidf_train = tfidf_vectorizer.fit_transform(x_train) \n",
    "    tfidf_test = tfidf_vectorizer.transform(x_test)\n",
    "\n",
    "    #DataFlair - Initialize a PassiveAggressiveClassifier\n",
    "    pac = PassiveAggressiveClassifier(max_iter=50)\n",
    "    pac.fit(tfidf_train, y_train)\n",
    "\n",
    "    #DataFlair - Predict on the test set and calculate accuracy\n",
    "    y_pred = pac.predict(tfidf_test)\n",
    "    score = accuracy_score(y_test, y_pred)\n",
    "    print(f'Accuracy: {round(score*100,2)}%')\n",
    "\n",
    "    #DataFlair - Build confusion matrix\n",
    "    print(confusion_matrix(y_test, y_pred, labels=['FAKE','REAL']))"
   ]
  },
  {
   "source": [
    "<h2>English</h2>\n",
    "Import Data from the File <i>fakeNewsEnglish.csv</i> and classify the Texts"
   ],
   "cell_type": "markdown",
   "metadata": {}
  },
  {
   "cell_type": "code",
   "execution_count": 19,
   "metadata": {},
   "outputs": [
    {
     "output_type": "stream",
     "name": "stdout",
     "text": [
      "Accuracy: 92.66%\n[[587  51]\n [ 42 587]]\n"
     ]
    }
   ],
   "source": [
    "#Read the data\n",
    "df=pd.read_csv('Data/fakeNewsEnglish.csv')\n",
    "\n",
    "#Get shape and head\n",
    "df.shape\n",
    "df.head()\n",
    "\n",
    "#DataFlair - Get the labels\n",
    "labels = df.label\n",
    "labels.head()\n",
    "\n",
    "fakeNewsClassifier(df['text'], labels)"
   ]
  },
  {
   "source": [
    "<h2>German</h2>\n",
    "Import Data from the File <i>fakeNewsGerman.csv</i> and classify the Texts"
   ],
   "cell_type": "markdown",
   "metadata": {}
  },
  {
   "cell_type": "code",
   "execution_count": 20,
   "metadata": {},
   "outputs": [
    {
     "output_type": "stream",
     "name": "stdout",
     "text": [
      "Accuracy: 99.55%\n[[  852    44]\n [   14 11864]]\n"
     ]
    }
   ],
   "source": [
    "#Read the data\n",
    "df=pd.read_csv('Data/fakeNewsGerman.csv')\n",
    "\n",
    "#Function\n",
    "def isFake(row):\n",
    "    if row['Fake'] == 1:\n",
    "        return 'FAKE'\n",
    "    return 'REAL'\n",
    "\n",
    "df['label'] = df.apply (lambda row: isFake(row), axis=1)\n",
    "\n",
    "#Get shape and head\n",
    "df.shape\n",
    "df.head()\n",
    "\n",
    "#DataFlair - Get the labels\n",
    "labels = df.label\n",
    "labels.head()\n",
    "\n",
    "fakeNewsClassifier(df['Body'], labels)"
   ]
  },
  {
   "cell_type": "code",
   "execution_count": null,
   "metadata": {},
   "outputs": [],
   "source": []
  }
 ]
}